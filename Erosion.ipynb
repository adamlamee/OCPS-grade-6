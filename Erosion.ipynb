{
 "cells": [
  {
   "cell_type": "markdown",
   "metadata": {},
   "source": [
    "#  Erosion: Here Today, Gone Tomorrow\n",
    "\n",
    "This Juptyer Notebooks will allow for the graphing of erosion data. We will use the [Discovery Science - Erosion: Here Today, gone Tomorrow Module](http://gtm-media.discoveryeducation.com/videos/DSC/externalApplications/accessible/virtual_labs-es/Erosion/index.html) to test soil erosion (Flash Player must be Enabled on the computer to run the Module). \n",
    "\n",
    "![](http://interactivesites.weebly.com/uploads/9/5/0/5/9505777/discovery.jpg)"
   ]
  },
  {
   "cell_type": "markdown",
   "metadata": {},
   "source": [
    "## Pre-Lab Questions\n",
    "\n",
    "    1. What is erosion?  How is it different from weathering?\n",
    "    2. How does deposition relate to erosion and weathering?"
   ]
  },
  {
   "cell_type": "markdown",
   "metadata": {},
   "source": [
    "# Using the Erosion Module\n",
    "\n",
    "The erosion module allows you to adjust and see how different variables impact soil erosion.  Variables you can adjust include <u>soil treatment</u>, <u>amount of water</u>, and <u>incline</u>. To start testing, make sure that you click on <b>Investigate</b>, type in your name, and select <b>Level 1</b>."
   ]
  },
  {
   "cell_type": "markdown",
   "metadata": {},
   "source": [
    "# Part 1: Determining the Effect of Plants\n",
    "## Making a Bar Graph of the Data for Soil Erosion with No Treatment and Low Incline\n",
    "\n",
    "This graph will display the results for soil erosion with no soil treatment and low incline, testing the effects of 'low', 'medium' and 'high' water. To run the block of code and all of the code blocks below, you will hit Shift + Enter."
   ]
  },
  {
   "cell_type": "code",
   "execution_count": null,
   "metadata": {},
   "outputs": [],
   "source": [
    "#importing what we'll need to use our data.\n",
    "import numpy as np\n",
    "import pandas as pd\n",
    "%matplotlib inline\n",
    "import matplotlib.pyplot as plt; plt.rcdefaults()\n",
    "import matplotlib.pyplot as plt"
   ]
  },
  {
   "cell_type": "code",
   "execution_count": null,
   "metadata": {},
   "outputs": [],
   "source": [
    "objects1 = ('Low Water', 'Medium Water', 'High Water')\n",
    "y_pos = np.arange(len(objects1))\n",
    "notreatment1 = [4,6,7]\n",
    " \n",
    "plt.bar(y_pos, notreatment1, align='center', alpha=0.5, color =\"b\")\n",
    "plt.xticks(y_pos, objects1)\n",
    "plt.ylim(0,11)\n",
    "plt.ylabel('Soil Runoff in Litres')\n",
    "plt.title('Soil Erosion with No Soil Treatment and Low Incline')\n",
    "plt.show()"
   ]
  },
  {
   "cell_type": "markdown",
   "metadata": {},
   "source": [
    "#### Part 1 Questions - Low Incline with No Treatment\n",
    "\n",
    "    3. What impact did increasing the water have on the soil erosion?\n",
    "    4. What was the erosion difference between the low water and high water?\n",
    "    5. How do you think adding plants will impact the amount of soil erosion?"
   ]
  },
  {
   "cell_type": "markdown",
   "metadata": {},
   "source": [
    "## Making a Bar Graph of the Data for Soil Erosion with Plants and Low Incline\n",
    "\n",
    "Using the \"Eroison: Here Today, Gone Tomorrow\" Module run tests for soil erosion for the <b>PLANTS</b> soil treatment with <b>LOW INCLINE</b> for 'low', 'medium' and 'high' water.  Write down your results in a data table, then enter them in the code below where it says planterosion = [1,1,1]."
   ]
  },
  {
   "cell_type": "code",
   "execution_count": null,
   "metadata": {},
   "outputs": [],
   "source": [
    "objects2 = ('Low Water', 'Medium Water', 'High Water')\n",
    "y_pos = np.arange(len(objects2))\n",
    "\n",
    "#Insert your data below.  Make sure that the data is entered in the correct order. \n",
    "#All the data is preset to 1 Litre. Order:\n",
    "# Low Water\n",
    "# Medium Water\n",
    "# High Water \n",
    "\n",
    "planterosion = [1,1,1]\n",
    " \n",
    "plt.bar(y_pos, planterosion, align='center', alpha=0.5, color =\"g\")\n",
    "plt.xticks(y_pos, objects2)\n",
    "plt.ylim(0,11)\n",
    "plt.ylabel('Soil Runoff in Litres')\n",
    "plt.title('Soil Erosion with Plants and Low Incline')\n",
    "plt.show()"
   ]
  },
  {
   "cell_type": "markdown",
   "metadata": {},
   "source": [
    "#### Part 1 Questions (cont) - Low Incline Erosion with Plants\n",
    "    6. Comparing this graph to the first one, what impact did the plants have on erosion? Can you quantify this impact?\n",
    "    7. What effect do plants have on the amount of erosion? What application might this serve in the real-world? "
   ]
  },
  {
   "cell_type": "markdown",
   "metadata": {},
   "source": [
    "# Part 2: Comparing Two Variables\n",
    "## Making a Bar Graph of the Data for Soil Erosion with No Treatment (Changing Water and Incline)\n",
    "\n",
    "This graph will display all results for soil erosion with no soil treatment including 'low', 'medium' and 'high' water and 'low', 'medium', and 'steep' incline."
   ]
  },
  {
   "cell_type": "code",
   "execution_count": null,
   "metadata": {},
   "outputs": [],
   "source": [
    "objects3 = ('Low Water - Low Incline', 'Low Water - Medium Incline', 'Low Water - Steep Incline', 'Medium Water - Low Incline', 'Medium Water - Medium Incline','Medium Water - Steep Incline','High Water - Low Incline', 'High Water - Medium Incline','High Water - Steep Incline')\n",
    "y_pos = np.arange(len(objects3))\n",
    "notreatment2 = [4,5,6,6,7,8,7,8,10]\n",
    "\n",
    "plt.bar(y_pos, notreatment2, align='center', alpha=0.5, color =\"cry\")\n",
    "\n",
    "plt.xticks(y_pos, objects3, rotation=90)\n",
    "plt.ylim(0,11)\n",
    "plt.ylabel('Soil Runoff in Litres')\n",
    "plt.title('Soil Erosion with No Soil Treatment')\n",
    "plt.show()"
   ]
  },
  {
   "cell_type": "markdown",
   "metadata": {},
   "source": [
    "#### Part 2 Questions - Comparing Two Variables (Water and Incline) with No Soil Treatment\n",
    "    8. What impact do you think changing the incline will have on the amount of soil erosion?  How might this change how landscapers and architects build on a slope?\n",
    "    9. What variable do you think has the biggest impact, water or incline? Explain.\n",
    "    10. Why did we change only one variable for each test run?"
   ]
  },
  {
   "cell_type": "markdown",
   "metadata": {},
   "source": [
    "## Making a Bar Graph of the Data for Soil Erosion with Plants (Changing Water and Incline)\n",
    "\n",
    "Using the \"Eroison: Here Today, Gone Tomorrow\" Module run tests for soil erosion for the <b>PLANTS</b> soil treatment with for 'low', 'medium' and 'high' water and 'low', 'medium', and 'steep' incline.  Write down your results in a data table, then enter them in the code below where it says planterosion2 = [1,1,1,1,1,1,1,1,1]."
   ]
  },
  {
   "cell_type": "code",
   "execution_count": null,
   "metadata": {},
   "outputs": [],
   "source": [
    "objects4 = ('Low Water - Low Incline', 'Low Water - Medium Incline', 'Low Water - Steep Incline', 'Medium Water - Low Incline', 'Medium Water - Medium Incline','Medium Water - Steep Incline','High Water - Low Incline', 'High Water - Medium Incline','High Water - Steep Incline')\n",
    "y_pos = np.arange(len(objects4))\n",
    "\n",
    "#Insert your data below in the [ ].  Make sure that the data is entered in the correct order. \n",
    "#All the data is preset to 1 Litre. Order:\n",
    "# Low Water - Low Incline\n",
    "# Low Water - Medium Incline\n",
    "# Low Water - Steep Incline\n",
    "# Medium Water - Low Incline\n",
    "# Medium Water - Medium Incline\n",
    "# Medium Water - Steep Incline \n",
    "# High Water - Low Incline\n",
    "# High Water - Medium Incline\n",
    "# High Water - Steep Incline\n",
    "\n",
    "planterosion2 = [1,1,1,1,1,1,1,1,1]\n",
    "\n",
    "\n",
    "plt.bar(y_pos, planterosion2, align='center', alpha=0.5, color =\"gmk\")\n",
    "plt.xticks(y_pos, objects4, rotation=90)\n",
    "plt.ylim(0,11)\n",
    "plt.ylabel('Soil Runoff in Litres')\n",
    "plt.title('Soil Erosion with Plants')\n",
    "plt.show()"
   ]
  },
  {
   "cell_type": "markdown",
   "metadata": {},
   "source": [
    "#### Part 2 Questions (cont) -  Comparing Two Variables with Plants\n",
    "    11. Which 3 test runs have the same amount of runoff?\n",
    "    12. Why do you believe that the amount of runoff is the same for those 3 test runs?"
   ]
  },
  {
   "cell_type": "markdown",
   "metadata": {},
   "source": [
    "# Erosion Bonus Section - Changing the Type of Soil\n",
    "\n",
    "Open up [Eroison: Here Today, Gone Tomorrow](http://gtm-media.discoveryeducation.com/videos/DSC/externalApplications/accessible/virtual_labs-es/Erosion/index.html) again in a new tab. This time click on <b>Level 2</b>, which now allows you to also adjust the type of soil. Run run tests for soil erosion for the <u>PLANTS</u> soil treatment with <u>medium incline</u> for 'low', 'medium' and 'high' water and 'sand', 'silt', and 'Sand/Soil Mixture' Soil Types.  Write down your results in a data table, then enter them in the code below where it says level2 = [1,1,1,1,1,1,1,1,1]. "
   ]
  },
  {
   "cell_type": "code",
   "execution_count": null,
   "metadata": {
    "scrolled": true
   },
   "outputs": [],
   "source": [
    "objectsb = ('Medium Water - Low Incline - Sand', 'Medium Water - Low Incline - Silt', 'Medium Water - Low Incline - Sand/Silt Mix','Medium Water - Medium Incline - Sand', 'Medium Water - Medium Incline - Silt', 'Medium Water - Medium Incline - Sand/Silt Mix', 'Medium Water - Steep Incline - Sand', 'Medium Water - Steep Incline - Silt', 'Medium Water - Steep Incline - Sand/Silt Mix')\n",
    "y_pos = np.arange(len(objectsb))\n",
    "\n",
    "#Insert your data below in the [ ].  Make sure that the data is entered in the correct order. \n",
    "#All the data is preset to 1 Litre. Order:\n",
    "# Medium Water - Low Incline - Sand\n",
    "# Medium Water - Low Incline - Silt\n",
    "# Medium Water - Low Incline - Sand/Silt Mix\n",
    "# Medium Water - Medium Incline - Sand\n",
    "# Medium Water - Medium Incline - Silt\n",
    "# Medium Water - Medium Incline - Sand/Silt Mix\n",
    "# Medium Water - Steep Incline - Sand\n",
    "# Medium Water - Steep Incline - Silt\n",
    "# Medium Water - Steep Incline - Sand/Silt Mix\n",
    "\n",
    "level2 = [1,1,1,1,1,1,1,1,1]\n",
    "\n",
    "\n",
    "plt.bar(y_pos, level2, align='center', alpha=0.5, color =[\"#C5B358\", \"#782F40\", \"k\"])\n",
    "plt.xticks(y_pos, objectsb, rotation=90)\n",
    "plt.ylim(0,11)\n",
    "plt.ylabel('Soil Runoff in Litres')\n",
    "plt.title('Soil Erosion with Plants & Medium Water (Level 2)')\n",
    "plt.show()"
   ]
  },
  {
   "cell_type": "markdown",
   "metadata": {
    "collapsed": true
   },
   "source": [
    "#### Bonus Questions\n",
    "    13.\tWhat do you think would happen if we could also adjust the soil type to sand or silt?  Which soil type more accurately matches most of Florida’s?\n",
    "\n",
    "    14.\tWhat was the dependent variable in all of the scenarios?  How do you know?  What were the two independent variables that were tested in this activity?\n",
    "\n",
    "    15.\tWhat are some of the benefits of modeling erosion in the simulation and analyzing it with coding?  What were some of the limitations?   "
   ]
  },
  {
   "cell_type": "markdown",
   "metadata": {},
   "source": [
    "---\n",
    "Find more activities and license info at [CODINGinK12.org](http://www.codingink12.org)."
   ]
  }
 ],
 "metadata": {
  "anaconda-cloud": {},
  "kernelspec": {
   "display_name": "Python 3",
   "language": "python",
   "name": "python3"
  },
  "language_info": {
   "codemirror_mode": {
    "name": "ipython",
    "version": 3
   },
   "file_extension": ".py",
   "mimetype": "text/x-python",
   "name": "python",
   "nbconvert_exporter": "python",
   "pygments_lexer": "ipython3",
   "version": "3.5.2"
  }
 },
 "nbformat": 4,
 "nbformat_minor": 1
}
