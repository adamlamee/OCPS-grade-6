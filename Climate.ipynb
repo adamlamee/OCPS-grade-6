{
 "cells": [
  {
   "cell_type": "markdown",
   "metadata": {},
   "source": [
    "# Weather and Climate\n",
    "This activity uses weather data averaged over 20-30 years from [NASA Education](https://pmm.nasa.gov/education/) and [U.S.ClimateData.com](https://www.usclimatedata.com/climate/orlando/florida/united-states/usfl1021/2017/1).\n",
    "\n",
    "To get started,\n",
    "- First, click the disc icon at the top to save the notebook. That makes it easier to start over later if you need to.\n",
    "- Go to the menu bar above and select **Kernel > Restart & Run All**.\n",
    "- You won't hurt anything by experimenting. If you break it, go to **File > Revert to checkpoint** to start over."
   ]
  },
  {
   "cell_type": "code",
   "execution_count": null,
   "metadata": {},
   "outputs": [],
   "source": [
    "# import the software packages needed\n",
    "import pandas as pd\n",
    "import numpy as np\n",
    "%matplotlib inline\n",
    "import matplotlib as mpl\n",
    "import matplotlib.pyplot as plt\n",
    "inline_rc = dict(mpl.rcParams)"
   ]
  },
  {
   "cell_type": "markdown",
   "metadata": {},
   "source": [
    "# Orlando average precipitation and temperature, 1981-2010"
   ]
  },
  {
   "cell_type": "code",
   "execution_count": null,
   "metadata": {},
   "outputs": [],
   "source": [
    "# importing the data\n",
    "orlando = pd.read_csv('orlando_data.csv', header=1)\n",
    "orlando"
   ]
  },
  {
   "cell_type": "code",
   "execution_count": null,
   "metadata": {},
   "outputs": [],
   "source": [
    "ax = orlando.plot.bar(x='Month', y='Avg Precipitation', color='b')\n",
    "orlando.plot.line(x='Month', y='Avg Temperature', color='k', \\\n",
    "                  linestyle='-', marker='o', ax=ax, secondary_y=True);\n",
    "ax.set_title(\"Orlando\")\n",
    "ax.set_ylabel('Precipication (mm)')\n",
    "ax.set_ylim(0,400)\n",
    "ax.right_ax.set_ylabel('Temperature (deg C)')\n",
    "ax.right_ax.set_ylim(0,40)\n",
    "ax.legend(loc='upper left')\n",
    "ax.right_ax.legend(loc='upper right')\n",
    "ax.grid(axis='y')"
   ]
  },
  {
   "cell_type": "markdown",
   "metadata": {},
   "source": [
    "# New Orleans average precipitation and temperature, 1981-2010"
   ]
  },
  {
   "cell_type": "code",
   "execution_count": null,
   "metadata": {},
   "outputs": [],
   "source": [
    "# importing the data\n",
    "nola = pd.read_csv('NOLA_data.csv', header=1)\n",
    "nola"
   ]
  },
  {
   "cell_type": "code",
   "execution_count": null,
   "metadata": {},
   "outputs": [],
   "source": [
    "ax = nola.plot.bar(x='Month', y='Avg Precipitation', color='b')\n",
    "nola.plot.line(x='Month', y='Avg Temperature', color='k', \\\n",
    "                  linestyle='-', marker='o', ax=ax, secondary_y=True);\n",
    "ax.set_title(\"New Orleans\")\n",
    "ax.set_ylabel('Precipication (mm)')\n",
    "ax.set_ylim(0,400)\n",
    "ax.right_ax.set_ylabel('Temperature (deg C)')\n",
    "ax.right_ax.set_ylim(0,40)\n",
    "ax.legend(loc='upper left')\n",
    "ax.right_ax.legend(loc='upper right')\n",
    "ax.grid(axis='y')"
   ]
  },
  {
   "cell_type": "markdown",
   "metadata": {},
   "source": [
    "# Orlando daily weather, December 2015"
   ]
  },
  {
   "cell_type": "code",
   "execution_count": null,
   "metadata": {},
   "outputs": [],
   "source": [
    "# importing the data\n",
    "daily = pd.read_csv('orlando_weather.csv', header=1)\n",
    "daily"
   ]
  },
  {
   "cell_type": "code",
   "execution_count": null,
   "metadata": {},
   "outputs": [],
   "source": [
    "ax = daily.plot.line(x='Date', y='High', linestyle='-', marker='o', color='r')\n",
    "daily.plot.line(x='Date', y='Low', color='b', linestyle='-', marker='o', ax=ax);\n",
    "\n",
    "ax.set_title(\"Orlando temperature, December 2015\")\n",
    "ax.set_ylabel('Temperature (deg C)')\n",
    "ax.grid(axis='y')"
   ]
  },
  {
   "cell_type": "markdown",
   "metadata": {},
   "source": [
    "---\n",
    "Find more activities and license info at [CODINGinK12.org](http://www.codingink12.org)."
   ]
  }
 ],
 "metadata": {
  "kernelspec": {
   "display_name": "Python 3",
   "language": "python",
   "name": "python3"
  },
  "language_info": {
   "codemirror_mode": {
    "name": "ipython",
    "version": 3
   },
   "file_extension": ".py",
   "mimetype": "text/x-python",
   "name": "python",
   "nbconvert_exporter": "python",
   "pygments_lexer": "ipython3",
   "version": "3.5.2"
  }
 },
 "nbformat": 4,
 "nbformat_minor": 1
}
