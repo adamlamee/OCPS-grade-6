{
 "cells": [
  {
   "cell_type": "markdown",
   "metadata": {},
   "source": [
    "# Distance Graph Matching\n",
    "In this activity, you'll use the *distance function* to model different types of motion.\n",
    "\n",
    "To get started,\n",
    "- First, click the disc icon at the top to save the notebook. That makes it easier to start over later if you need to.\n",
    "- Go to the menu bar above and select **Kernel > Restart & Run All**.\n",
    "- You won't hurt anything by experimenting. If you break it, go to **File > Revert to checkpoint** to start over.\n",
    "- Is this your first time? Need a refresher? Try the 5-minute [Intro to Jupyter activity](./Intro_to_Jupyter.ipynb) and come back here. \n",
    "\n",
    "When you're ready, scroll down to **Part One**."
   ]
  },
  {
   "cell_type": "code",
   "execution_count": null,
   "metadata": {},
   "outputs": [],
   "source": [
    "# this cell only needs to be run once, but re-exectuing it doesn't hurt anything either\n",
    "# imports software packages (not too exciting)\n",
    "import pandas as pd\n",
    "import numpy as np\n",
    "%matplotlib inline\n",
    "import matplotlib as mpl\n",
    "import matplotlib.pyplot as plt\n",
    "inline_rc = dict(mpl.rcParams)"
   ]
  },
  {
   "cell_type": "markdown",
   "metadata": {},
   "source": [
    "## Part One: comparing motion"
   ]
  },
  {
   "cell_type": "code",
   "execution_count": null,
   "metadata": {
    "scrolled": true
   },
   "outputs": [],
   "source": [
    "# this creates a data table\n",
    "data = pd.DataFrame()\n",
    "data['time (s)'] = [0,1,2,3,4,5]\n",
    "data['object 1 distance (m)'] = [0,1,2,3,4,5]\n",
    "data['object 2 distance (m)'] = [0,2,4,6,8,10]\n",
    "\n",
    "# this shows the data table\n",
    "data"
   ]
  },
  {
   "cell_type": "code",
   "execution_count": null,
   "metadata": {},
   "outputs": [],
   "source": [
    "# this plots the data in the table\n",
    "ax = data.plot.line(y=['object 1 distance (m)','object 2 distance (m)'],xlim=[0,6], ylim=[0,10],grid=True)\n",
    "ax.set(xlabel=\"time (s)\", ylabel=\"distance\", title=\"Speed Comparison\")"
   ]
  },
  {
   "cell_type": "code",
   "execution_count": null,
   "metadata": {},
   "outputs": [],
   "source": [
    "# this plots the data in the table\n",
    "ax = data.plot.line(y='object 1 distance (m)',xlim=[0,6], ylim=[0,10],grid=True)\n",
    "ax = data.plot.line(y='object 2 distance (m)', ax=ax)\n",
    "ax.set(xlabel=\"time (s)\", ylabel=\"distance\", title=\"Speed Comparison\");"
   ]
  },
  {
   "cell_type": "markdown",
   "metadata": {},
   "source": [
    "## Part Two: More motion"
   ]
  },
  {
   "cell_type": "code",
   "execution_count": null,
   "metadata": {},
   "outputs": [],
   "source": [
    "# this creates a data table called \"data2\"\n",
    "data2 = pd.DataFrame(columns=['time at 5 meters (m)', 'time at 10 meters (m)'], index=['car_A','car_B','car_C','car_D'])\n",
    "data2.loc['car_A'] = pd.Series({'time at 5 meters (m)': 1, 'time at 10 meters (m)': 2})\n",
    "data2.loc['car_B'] = pd.Series({'time at 5 meters (m)': 3, 'time at 10 meters (m)': 4})\n",
    "data2.loc['car_C'] = pd.Series({'time at 5 meters (m)': 5, 'time at 10 meters (m)': 6})\n",
    "data2.loc['car_D'] = pd.Series({'time at 5 meters (m)': 7, 'time at 10 meters (m)': 8})\n",
    "# this shows the data table\n",
    "data2"
   ]
  },
  {
   "cell_type": "code",
   "execution_count": null,
   "metadata": {},
   "outputs": [],
   "source": [
    "# selects the data to plot\n",
    "data2[\"average speed (m/s)\"] = ((data2[\"time at 5 meters (m)\"]/5) + (data2[\"time at 10 meters (m)\"]/10))/2\n",
    "datawewant = {'dist': [0, 10], \\\n",
    "        'car_A_time': [0, 10*data2.at[('car_A', 'average speed (m/s)')]], \\\n",
    "        'car_B_time': [0, 10*data2.at[('car_B', 'average speed (m/s)')]], \\\n",
    "        'car_C_time': [0, 10*data2.at[('car_C', 'average speed (m/s)')]], \\\n",
    "        'car_D_time': [0, 10*data2.at[('car_D', 'average speed (m/s)')]]}\n",
    "plotdata = pd.DataFrame.from_dict(datawewant)\n",
    "\n",
    "# plots the data\n",
    "ax = plotdata.plot(x='car_A_time',y='dist', label=\"car A\")\n",
    "plotdata.plot(x='car_B_time',y='dist', label=\"car B\", ax=ax)\n",
    "plotdata.plot(x='car_C_time',y='dist', label=\"car C\", ax=ax)\n",
    "plotdata.plot(x='car_D_time',y='dist', label=\"car D\", ax=ax)\n",
    "ax.set(xlabel=\"time (s)\", ylabel=\"distance (m)\", title=\"Speed Comparison\");"
   ]
  },
  {
   "cell_type": "markdown",
   "metadata": {},
   "source": [
    "---\n",
    "Find more activities and license info at [CODINGinK12.org](http://www.codingink12.org)."
   ]
  }
 ],
 "metadata": {
  "kernelspec": {
   "display_name": "Python 3",
   "language": "python",
   "name": "python3"
  },
  "language_info": {
   "codemirror_mode": {
    "name": "ipython",
    "version": 3
   },
   "file_extension": ".py",
   "mimetype": "text/x-python",
   "name": "python",
   "nbconvert_exporter": "python",
   "pygments_lexer": "ipython3",
   "version": "3.5.2"
  }
 },
 "nbformat": 4,
 "nbformat_minor": 1
}
