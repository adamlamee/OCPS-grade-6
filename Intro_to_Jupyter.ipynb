{
 "cells": [
  {
   "cell_type": "markdown",
   "metadata": {},
   "source": [
    "# Intro to coding with a Jupyter notebook\n",
    "This is a Jupyter notebook. It allows you to type text, format it with headings and links, insert images, and have separate cells for code. You can click the \"play\" icon above (or shift+ENTER) to execute a cell and go on to the next one. You can also edit the code and run it again to see how the output changes.\n",
    "\n",
    "Click on this cell, then press shift+ENTER."
   ]
  },
  {
   "cell_type": "markdown",
   "metadata": {},
   "source": [
    "Next, try executing the following cells."
   ]
  },
  {
   "cell_type": "code",
   "execution_count": null,
   "metadata": {},
   "outputs": [],
   "source": [
    "# This is how to add.\n",
    "2+2"
   ]
  },
  {
   "cell_type": "code",
   "execution_count": null,
   "metadata": {},
   "outputs": [],
   "source": [
    "# This is a \"comment\"\n",
    "# Starting with # tells the program not to read this line\n",
    "5-4"
   ]
  },
  {
   "cell_type": "code",
   "execution_count": null,
   "metadata": {},
   "outputs": [],
   "source": [
    "# the following lines \"define variables\"\n",
    "a = 4\n",
    "b = 3\n",
    "\n",
    "# If you're used to other languages, Python doesn't need the \"print\" command\n",
    "# the next line displays the result\n",
    "a+b"
   ]
  },
  {
   "cell_type": "code",
   "execution_count": null,
   "metadata": {},
   "outputs": [],
   "source": [
    "c = a*a\n",
    "c"
   ]
  },
  {
   "cell_type": "code",
   "execution_count": null,
   "metadata": {},
   "outputs": [],
   "source": [
    "# Can you figure out what this operation is?\n",
    "d = b**a\n",
    "d"
   ]
  },
  {
   "cell_type": "markdown",
   "metadata": {
    "collapsed": true
   },
   "source": [
    "You can re-execute a cell by pressing shift+ENTER. Try editing some of the code above.\n",
    "- Edit some code to do a different calculation\n",
    "- Add a comment in a code cell to explain what the code does\n",
    "- Figure out what that last calculation does\n",
    "- To **start over** from scratch: on the toolbar above click Kernel > Restart and Clear Output.  \n",
    "\n",
    "## Try editing a graph\n",
    "Execute the code below to see a graph. Then, try editing the code to make a new tile and axis labels."
   ]
  },
  {
   "cell_type": "code",
   "execution_count": null,
   "metadata": {},
   "outputs": [],
   "source": [
    "import pandas as pd\n",
    "%matplotlib inline\n",
    "import matplotlib as mpl\n",
    "data2 = pd.DataFrame({'time' : [0,1,2,3],'temperature' : [0,2,4,6]})\n",
    "ax = data2.plot(x='time',y='temperature', grid=True, legend=False);\n",
    "ax.set_xlabel(\"I need a label\")\n",
    "ax.set_ylabel(\"me too!\")\n",
    "ax.set_title(\"Title?\")"
   ]
  },
  {
   "cell_type": "markdown",
   "metadata": {},
   "source": [
    "---\n",
    "Find more activities and license info at [CODINGinK12.org](http://www.codingink12.org)."
   ]
  }
 ],
 "metadata": {
  "kernelspec": {
   "display_name": "Python 3",
   "language": "python",
   "name": "python3"
  },
  "language_info": {
   "codemirror_mode": {
    "name": "ipython",
    "version": 3
   },
   "file_extension": ".py",
   "mimetype": "text/x-python",
   "name": "python",
   "nbconvert_exporter": "python",
   "pygments_lexer": "ipython3",
   "version": "3.5.2"
  }
 },
 "nbformat": 4,
 "nbformat_minor": 1
}
