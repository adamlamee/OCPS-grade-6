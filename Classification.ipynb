{
 "cells": [
  {
   "cell_type": "markdown",
   "metadata": {},
   "source": [
    "# Classification of Organisms\n",
    "Using a Digital Dichotomous Key\n",
    "\n",
    "\n",
    "### Step 1 - Creating a Checkpoint\n",
    ">Create a checkpoint by clicking <b>File</b> ==> <b>Save and Checkpoint</b>. If you make a major mistake, you can click <u>File</u> ==> <u>Revert to Checkpoint</u> to reset the Jupyter Notebook.\n",
    "\n",
    "### Importing the Data\n",
    "\n",
    ">The next 2 blocks of code imports the data that we will need to examine the caracteristics of many different organisms. You can begin to execute the cells using <b> Shift + Enter </b> to import the data set and continue."
   ]
  },
  {
   "cell_type": "code",
   "execution_count": null,
   "metadata": {},
   "outputs": [],
   "source": [
    "# Import modules that contain functions we need\n",
    "import pandas as pd\n",
    "import numpy as np\n",
    "%matplotlib inline\n",
    "import matplotlib.pyplot as plt"
   ]
  },
  {
   "cell_type": "code",
   "execution_count": null,
   "metadata": {},
   "outputs": [],
   "source": [
    "# Our data is the dichotomous key table and is defined as the word 'key'.\n",
    "# key is set equal to the .csv file that is read by pandas.\n",
    "# The .csv file must be in the same directory as the program.\n",
    "\n",
    "key = pd.read_csv(\"./classification_data.csv\")"
   ]
  },
  {
   "cell_type": "markdown",
   "metadata": {},
   "source": [
    "## PART 1: Sorting Organisms by One Characteristic\n",
    "\n",
    ">We will be looking at the characterists of 75 unique organisms in our Dichotomous Key.  The imput below will provide us with a some of the possible organisms you may discover and the different Organism Characteristics/Conditions in our data set.\n",
    "\n"
   ]
  },
  {
   "cell_type": "code",
   "execution_count": null,
   "metadata": {},
   "outputs": [],
   "source": [
    "# Animal options in Dichotomous Key\n",
    "# Displays all row titles as an array\n",
    "key.organism"
   ]
  },
  {
   "cell_type": "code",
   "execution_count": null,
   "metadata": {},
   "outputs": [],
   "source": [
    "# Conditions/Questions for finding the correct animal\n",
    "# Displays all column titles as an array\n",
    "key.columns"
   ]
  },
  {
   "cell_type": "markdown",
   "metadata": {},
   "source": [
    ">Use and modify the section of code below to answer questions 3-5 in your coding booklet."
   ]
  },
  {
   "cell_type": "code",
   "execution_count": null,
   "metadata": {},
   "outputs": [],
   "source": [
    "key[(key['fur'] == 'yes')]"
   ]
  },
  {
   "cell_type": "markdown",
   "metadata": {},
   "source": [
    "## PART 2: Sorting Organisms by Many Characteristics\n",
    "\n",
    ">These are the conditions or the characteristics in which ceratin answers are categorized for certain organisms. Each characteristic/condition has a yes/no except for the Kingdoms. Change the conditionals in the code below to change what organism(s) are displayed. For most, the only change needs to be the 'yes' or 'no'.\n",
    "\n",
    "#### <span style=\"color:red\">Capitalization matters so be careful. You also must put in only allowed answers in every condition or the code will break!</span>\n",
    "\n",
    ">Use and modify the section of code below to answer questions 6-8 in your coding booklet."
   ]
  },
  {
   "cell_type": "code",
   "execution_count": null,
   "metadata": {},
   "outputs": [],
   "source": [
    "# This conditional allows us to query a column and if the data within that cell matches it will display the animal(s).\n",
    "#if you are unsure of what to put try making that column a comment by adding # in front of it.\n",
    "\n",
    "key[\n",
    "#physical characteristics\n",
    "    (key['fur'] == 'yes') & \\\n",
    "    (key['feathers'] == 'no') & \\\n",
    "    (key['poisonous'] == 'no') & \\\n",
    "    (key['scales'] == 'no') & \\\n",
    "    (key['multicellular'] == 'yes') & \\\n",
    "    (key['fins'] == 'no') & \\\n",
    "    (key['wings'] == 'no') & \\\n",
    "    (key['vertebrate'] == 'yes') & \\\n",
    "    \n",
    "#environmental characteristics\n",
    "    (key['marine'] == 'no') & \\\n",
    "    (key['terrestrial'] == 'yes') & \\\n",
    "    \n",
    "#feeding characteristics\n",
    "    \n",
    "    #decomposers get their food by breaking down decaying organisms\n",
    "    (key['decomposer'] == 'no') & \\\n",
    "    \n",
    "    #carnivores get their food by eating animals\n",
    "    (key['carnivore'] == 'no') & \\\n",
    "    \n",
    "    #herbivores get their food by eating plants\n",
    "    (key['herbivore'] == 'yes') & \\\n",
    "    \n",
    "    #omnivores get their food by eating both plants and animals\n",
    "    (key['omnivore'] == 'no') & \\\n",
    "    \n",
    "    #photosynthesis is the process of making food using energy from sunlight\n",
    "    (key['photosynthesis'] == 'no') & \\\n",
    "    \n",
    "    #autotrophs are organisms that generate their own food inside themselves\n",
    "    (key['autotroph'] == 'no') & \\\n",
    "    \n",
    "#possible kingdoms include: animalia, plantae, fungi\n",
    "    (key['kingdom'] == 'animalia') & \\\n",
    "   \n",
    "#cell type     \n",
    "    (key['eukaryotic'] == 'yes') & \\\n",
    "    (key['prokaryotic'] == 'no')\n",
    "    ]"
   ]
  },
  {
   "cell_type": "markdown",
   "metadata": {},
   "source": [
    "---\n",
    "Find more activities and license info at [CODINGinK12.org](http://www.codingink12.org)."
   ]
  }
 ],
 "metadata": {
  "kernelspec": {
   "display_name": "Python 3",
   "language": "python",
   "name": "python3"
  },
  "language_info": {
   "codemirror_mode": {
    "name": "ipython",
    "version": 3
   },
   "file_extension": ".py",
   "mimetype": "text/x-python",
   "name": "python",
   "nbconvert_exporter": "python",
   "pygments_lexer": "ipython3",
   "version": "3.5.2"
  }
 },
 "nbformat": 4,
 "nbformat_minor": 2
}
